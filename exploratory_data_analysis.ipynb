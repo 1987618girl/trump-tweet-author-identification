{
 "cells": [
  {
   "cell_type": "code",
   "execution_count": 9,
   "metadata": {
    "collapsed": true
   },
   "outputs": [],
   "source": [
    "import pandas as pd"
   ]
  },
  {
   "cell_type": "markdown",
   "metadata": {},
   "source": [
    "# Master data set"
   ]
  },
  {
   "cell_type": "code",
   "execution_count": 10,
   "metadata": {
    "collapsed": true
   },
   "outputs": [],
   "source": [
    "master_2009 = pd.read_json('data/master_2009.json')\n",
    "master_2010 = pd.read_json('data/master_2010.json')\n",
    "master_2011 = pd.read_json('data/master_2011.json')\n",
    "master_2012 = pd.read_json('data/master_2012.json')\n",
    "master_2013 = pd.read_json('data/master_2013.json')\n",
    "master_2014 = pd.read_json('data/master_2014.json')\n",
    "master_2015 = pd.read_json('data/master_2015.json')\n",
    "master_2016 = pd.read_json('data/master_2016.json')\n",
    "master_2017 = pd.read_json('data/master_2017.json')"
   ]
  },
  {
   "cell_type": "code",
   "execution_count": 11,
   "metadata": {
    "collapsed": true
   },
   "outputs": [],
   "source": [
    "master_list = [master_2009, \n",
    "               master_2010, \n",
    "               master_2011, \n",
    "               master_2012, \n",
    "               master_2013, \n",
    "               master_2014, \n",
    "               master_2015, \n",
    "               master_2016, \n",
    "               master_2017]\n",
    "\n",
    "master = pd.concat(master_list)"
   ]
  },
  {
   "cell_type": "code",
   "execution_count": 12,
   "metadata": {},
   "outputs": [
    {
     "name": "stdout",
     "output_type": "stream",
     "text": [
      "<class 'pandas.core.frame.DataFrame'>\n",
      "Int64Index: 32797 entries, 0 to 2604\n",
      "Data columns (total 35 columns):\n",
      "contributors                 0 non-null float64\n",
      "coordinates                  2299 non-null object\n",
      "created_at                   32797 non-null datetime64[ns]\n",
      "display_text_range           1554 non-null object\n",
      "entities                     32797 non-null object\n",
      "extended_entities            1948 non-null object\n",
      "favorite_count               32797 non-null int64\n",
      "favorited                    32797 non-null bool\n",
      "full_text                    1554 non-null object\n",
      "geo                          2299 non-null object\n",
      "id                           32797 non-null int64\n",
      "id_str                       32797 non-null int64\n",
      "in_reply_to_screen_name      2443 non-null object\n",
      "in_reply_to_status_id        2002 non-null float64\n",
      "in_reply_to_status_id_str    2002 non-null float64\n",
      "in_reply_to_user_id          2443 non-null float64\n",
      "in_reply_to_user_id_str      2443 non-null float64\n",
      "is_quote_status              32797 non-null bool\n",
      "lang                         32797 non-null object\n",
      "place                        2878 non-null object\n",
      "possibly_sensitive           7595 non-null float64\n",
      "quoted_status                282 non-null object\n",
      "quoted_status_id             308 non-null float64\n",
      "quoted_status_id_str         308 non-null float64\n",
      "retweet_count                32797 non-null int64\n",
      "retweeted                    32797 non-null bool\n",
      "retweeted_status             498 non-null object\n",
      "scopes                       63 non-null object\n",
      "source                       32797 non-null object\n",
      "text                         31243 non-null object\n",
      "truncated                    32797 non-null bool\n",
      "user                         32797 non-null object\n",
      "withheld_copyright           1 non-null float64\n",
      "withheld_in_countries        1 non-null object\n",
      "withheld_scope               1 non-null object\n",
      "dtypes: bool(4), datetime64[ns](1), float64(9), int64(4), object(17)\n",
      "memory usage: 8.1+ MB\n"
     ]
    }
   ],
   "source": [
    "master.info()"
   ]
  },
  {
   "cell_type": "code",
   "execution_count": 13,
   "metadata": {},
   "outputs": [
    {
     "data": {
      "text/plain": [
       "32797"
      ]
     },
     "execution_count": 13,
     "metadata": {},
     "output_type": "execute_result"
    }
   ],
   "source": [
    "len(master_2009) + len(master_2010) + len(master_2011) + len(master_2012) + \\\n",
    "len(master_2013) + len(master_2014) + len(master_2015) + len(master_2016) + len(master_2017)"
   ]
  },
  {
   "cell_type": "code",
   "execution_count": 14,
   "metadata": {},
   "outputs": [
    {
     "data": {
      "text/plain": [
       "32797"
      ]
     },
     "execution_count": 14,
     "metadata": {},
     "output_type": "execute_result"
    }
   ],
   "source": [
    "len(master)"
   ]
  },
  {
   "cell_type": "code",
   "execution_count": 15,
   "metadata": {},
   "outputs": [
    {
     "data": {
      "text/html": [
       "<div>\n",
       "<style>\n",
       "    .dataframe thead tr:only-child th {\n",
       "        text-align: right;\n",
       "    }\n",
       "\n",
       "    .dataframe thead th {\n",
       "        text-align: left;\n",
       "    }\n",
       "\n",
       "    .dataframe tbody tr th {\n",
       "        vertical-align: top;\n",
       "    }\n",
       "</style>\n",
       "<table border=\"1\" class=\"dataframe\">\n",
       "  <thead>\n",
       "    <tr style=\"text-align: right;\">\n",
       "      <th></th>\n",
       "      <th>contributors</th>\n",
       "      <th>coordinates</th>\n",
       "      <th>created_at</th>\n",
       "      <th>display_text_range</th>\n",
       "      <th>entities</th>\n",
       "      <th>extended_entities</th>\n",
       "      <th>favorite_count</th>\n",
       "      <th>favorited</th>\n",
       "      <th>full_text</th>\n",
       "      <th>geo</th>\n",
       "      <th>...</th>\n",
       "      <th>retweeted</th>\n",
       "      <th>retweeted_status</th>\n",
       "      <th>scopes</th>\n",
       "      <th>source</th>\n",
       "      <th>text</th>\n",
       "      <th>truncated</th>\n",
       "      <th>user</th>\n",
       "      <th>withheld_copyright</th>\n",
       "      <th>withheld_in_countries</th>\n",
       "      <th>withheld_scope</th>\n",
       "    </tr>\n",
       "  </thead>\n",
       "  <tbody>\n",
       "    <tr>\n",
       "      <th>0</th>\n",
       "      <td>NaN</td>\n",
       "      <td>NaN</td>\n",
       "      <td>2009-12-23 17:38:18</td>\n",
       "      <td>NaN</td>\n",
       "      <td>{'symbols': [], 'user_mentions': [], 'hashtags...</td>\n",
       "      <td>NaN</td>\n",
       "      <td>12</td>\n",
       "      <td>False</td>\n",
       "      <td>NaN</td>\n",
       "      <td>NaN</td>\n",
       "      <td>...</td>\n",
       "      <td>False</td>\n",
       "      <td>NaN</td>\n",
       "      <td>NaN</td>\n",
       "      <td>&lt;a href=\"http://twitter.com\" rel=\"nofollow\"&gt;Tw...</td>\n",
       "      <td>From Donald Trump: Wishing everyone a wonderfu...</td>\n",
       "      <td>False</td>\n",
       "      <td>{'follow_request_sent': False, 'has_extended_p...</td>\n",
       "      <td>NaN</td>\n",
       "      <td>NaN</td>\n",
       "      <td>NaN</td>\n",
       "    </tr>\n",
       "    <tr>\n",
       "      <th>1</th>\n",
       "      <td>NaN</td>\n",
       "      <td>NaN</td>\n",
       "      <td>2009-12-03 19:39:09</td>\n",
       "      <td>NaN</td>\n",
       "      <td>{'symbols': [], 'user_mentions': [], 'hashtags...</td>\n",
       "      <td>NaN</td>\n",
       "      <td>6</td>\n",
       "      <td>False</td>\n",
       "      <td>NaN</td>\n",
       "      <td>NaN</td>\n",
       "      <td>...</td>\n",
       "      <td>False</td>\n",
       "      <td>NaN</td>\n",
       "      <td>NaN</td>\n",
       "      <td>&lt;a href=\"http://twitter.com\" rel=\"nofollow\"&gt;Tw...</td>\n",
       "      <td>Trump International Tower in Chicago ranked 6t...</td>\n",
       "      <td>False</td>\n",
       "      <td>{'follow_request_sent': False, 'has_extended_p...</td>\n",
       "      <td>NaN</td>\n",
       "      <td>NaN</td>\n",
       "      <td>NaN</td>\n",
       "    </tr>\n",
       "    <tr>\n",
       "      <th>2</th>\n",
       "      <td>NaN</td>\n",
       "      <td>NaN</td>\n",
       "      <td>2009-11-26 19:55:38</td>\n",
       "      <td>NaN</td>\n",
       "      <td>{'symbols': [], 'user_mentions': [], 'hashtags...</td>\n",
       "      <td>NaN</td>\n",
       "      <td>11</td>\n",
       "      <td>False</td>\n",
       "      <td>NaN</td>\n",
       "      <td>NaN</td>\n",
       "      <td>...</td>\n",
       "      <td>False</td>\n",
       "      <td>NaN</td>\n",
       "      <td>NaN</td>\n",
       "      <td>&lt;a href=\"http://twitter.com\" rel=\"nofollow\"&gt;Tw...</td>\n",
       "      <td>Wishing you and yours a very Happy and Bountif...</td>\n",
       "      <td>False</td>\n",
       "      <td>{'follow_request_sent': False, 'has_extended_p...</td>\n",
       "      <td>NaN</td>\n",
       "      <td>NaN</td>\n",
       "      <td>NaN</td>\n",
       "    </tr>\n",
       "    <tr>\n",
       "      <th>3</th>\n",
       "      <td>NaN</td>\n",
       "      <td>NaN</td>\n",
       "      <td>2009-11-16 21:06:10</td>\n",
       "      <td>NaN</td>\n",
       "      <td>{'symbols': [], 'user_mentions': [], 'hashtags...</td>\n",
       "      <td>NaN</td>\n",
       "      <td>3</td>\n",
       "      <td>False</td>\n",
       "      <td>NaN</td>\n",
       "      <td>NaN</td>\n",
       "      <td>...</td>\n",
       "      <td>False</td>\n",
       "      <td>NaN</td>\n",
       "      <td>NaN</td>\n",
       "      <td>&lt;a href=\"http://twitter.com\" rel=\"nofollow\"&gt;Tw...</td>\n",
       "      <td>Donald Trump Partners with TV1 on New Reality ...</td>\n",
       "      <td>False</td>\n",
       "      <td>{'follow_request_sent': False, 'has_extended_p...</td>\n",
       "      <td>NaN</td>\n",
       "      <td>NaN</td>\n",
       "      <td>NaN</td>\n",
       "    </tr>\n",
       "    <tr>\n",
       "      <th>4</th>\n",
       "      <td>NaN</td>\n",
       "      <td>NaN</td>\n",
       "      <td>2009-11-02 14:57:56</td>\n",
       "      <td>NaN</td>\n",
       "      <td>{'symbols': [], 'user_mentions': [], 'hashtags...</td>\n",
       "      <td>NaN</td>\n",
       "      <td>6</td>\n",
       "      <td>False</td>\n",
       "      <td>NaN</td>\n",
       "      <td>NaN</td>\n",
       "      <td>...</td>\n",
       "      <td>False</td>\n",
       "      <td>NaN</td>\n",
       "      <td>NaN</td>\n",
       "      <td>&lt;a href=\"http://twitter.com\" rel=\"nofollow\"&gt;Tw...</td>\n",
       "      <td>--Work has begun, ahead of schedule, to build ...</td>\n",
       "      <td>False</td>\n",
       "      <td>{'follow_request_sent': False, 'has_extended_p...</td>\n",
       "      <td>NaN</td>\n",
       "      <td>NaN</td>\n",
       "      <td>NaN</td>\n",
       "    </tr>\n",
       "  </tbody>\n",
       "</table>\n",
       "<p>5 rows × 35 columns</p>\n",
       "</div>"
      ],
      "text/plain": [
       "   contributors coordinates          created_at display_text_range  \\\n",
       "0           NaN         NaN 2009-12-23 17:38:18                NaN   \n",
       "1           NaN         NaN 2009-12-03 19:39:09                NaN   \n",
       "2           NaN         NaN 2009-11-26 19:55:38                NaN   \n",
       "3           NaN         NaN 2009-11-16 21:06:10                NaN   \n",
       "4           NaN         NaN 2009-11-02 14:57:56                NaN   \n",
       "\n",
       "                                            entities extended_entities  \\\n",
       "0  {'symbols': [], 'user_mentions': [], 'hashtags...               NaN   \n",
       "1  {'symbols': [], 'user_mentions': [], 'hashtags...               NaN   \n",
       "2  {'symbols': [], 'user_mentions': [], 'hashtags...               NaN   \n",
       "3  {'symbols': [], 'user_mentions': [], 'hashtags...               NaN   \n",
       "4  {'symbols': [], 'user_mentions': [], 'hashtags...               NaN   \n",
       "\n",
       "   favorite_count  favorited full_text  geo      ...        retweeted  \\\n",
       "0              12      False       NaN  NaN      ...            False   \n",
       "1               6      False       NaN  NaN      ...            False   \n",
       "2              11      False       NaN  NaN      ...            False   \n",
       "3               3      False       NaN  NaN      ...            False   \n",
       "4               6      False       NaN  NaN      ...            False   \n",
       "\n",
       "   retweeted_status scopes                                             source  \\\n",
       "0               NaN    NaN  <a href=\"http://twitter.com\" rel=\"nofollow\">Tw...   \n",
       "1               NaN    NaN  <a href=\"http://twitter.com\" rel=\"nofollow\">Tw...   \n",
       "2               NaN    NaN  <a href=\"http://twitter.com\" rel=\"nofollow\">Tw...   \n",
       "3               NaN    NaN  <a href=\"http://twitter.com\" rel=\"nofollow\">Tw...   \n",
       "4               NaN    NaN  <a href=\"http://twitter.com\" rel=\"nofollow\">Tw...   \n",
       "\n",
       "                                                text  truncated  \\\n",
       "0  From Donald Trump: Wishing everyone a wonderfu...      False   \n",
       "1  Trump International Tower in Chicago ranked 6t...      False   \n",
       "2  Wishing you and yours a very Happy and Bountif...      False   \n",
       "3  Donald Trump Partners with TV1 on New Reality ...      False   \n",
       "4  --Work has begun, ahead of schedule, to build ...      False   \n",
       "\n",
       "                                                user  withheld_copyright  \\\n",
       "0  {'follow_request_sent': False, 'has_extended_p...                 NaN   \n",
       "1  {'follow_request_sent': False, 'has_extended_p...                 NaN   \n",
       "2  {'follow_request_sent': False, 'has_extended_p...                 NaN   \n",
       "3  {'follow_request_sent': False, 'has_extended_p...                 NaN   \n",
       "4  {'follow_request_sent': False, 'has_extended_p...                 NaN   \n",
       "\n",
       "  withheld_in_countries withheld_scope  \n",
       "0                   NaN            NaN  \n",
       "1                   NaN            NaN  \n",
       "2                   NaN            NaN  \n",
       "3                   NaN            NaN  \n",
       "4                   NaN            NaN  \n",
       "\n",
       "[5 rows x 35 columns]"
      ]
     },
     "execution_count": 15,
     "metadata": {},
     "output_type": "execute_result"
    }
   ],
   "source": [
    "master.head()"
   ]
  },
  {
   "cell_type": "markdown",
   "metadata": {},
   "source": [
    "# Condensed data set"
   ]
  },
  {
   "cell_type": "code",
   "execution_count": 16,
   "metadata": {},
   "outputs": [],
   "source": [
    "condensed_2009 = pd.read_json('data/condensed_2009.json')\n",
    "condensed_2010 = pd.read_json('data/condensed_2010.json')\n",
    "condensed_2011 = pd.read_json('data/condensed_2011.json')\n",
    "condensed_2012 = pd.read_json('data/condensed_2012.json')\n",
    "condensed_2013 = pd.read_json('data/condensed_2013.json')\n",
    "condensed_2014 = pd.read_json('data/condensed_2014.json')\n",
    "condensed_2015 = pd.read_json('data/condensed_2015.json')\n",
    "condensed_2016 = pd.read_json('data/condensed_2016.json')\n",
    "condensed_2017 = pd.read_json('data/condensed_2017.json')\n",
    "\n",
    "condensed_list = [condensed_2009, \n",
    "                  condensed_2010, \n",
    "                  condensed_2011, \n",
    "                  condensed_2012, \n",
    "                  condensed_2013, \n",
    "                  condensed_2014, \n",
    "                  condensed_2015, \n",
    "                  condensed_2016, \n",
    "                  condensed_2017]\n",
    "\n",
    "condensed = pd.concat(condensed_list)"
   ]
  },
  {
   "cell_type": "code",
   "execution_count": 17,
   "metadata": {},
   "outputs": [
    {
     "data": {
      "text/plain": [
       "32797"
      ]
     },
     "execution_count": 17,
     "metadata": {},
     "output_type": "execute_result"
    }
   ],
   "source": [
    "len(condensed)"
   ]
  },
  {
   "cell_type": "code",
   "execution_count": 18,
   "metadata": {},
   "outputs": [
    {
     "data": {
      "text/html": [
       "<div>\n",
       "<style>\n",
       "    .dataframe thead tr:only-child th {\n",
       "        text-align: right;\n",
       "    }\n",
       "\n",
       "    .dataframe thead th {\n",
       "        text-align: left;\n",
       "    }\n",
       "\n",
       "    .dataframe tbody tr th {\n",
       "        vertical-align: top;\n",
       "    }\n",
       "</style>\n",
       "<table border=\"1\" class=\"dataframe\">\n",
       "  <thead>\n",
       "    <tr style=\"text-align: right;\">\n",
       "      <th></th>\n",
       "      <th>created_at</th>\n",
       "      <th>favorite_count</th>\n",
       "      <th>id_str</th>\n",
       "      <th>in_reply_to_user_id_str</th>\n",
       "      <th>is_retweet</th>\n",
       "      <th>retweet_count</th>\n",
       "      <th>source</th>\n",
       "      <th>text</th>\n",
       "    </tr>\n",
       "  </thead>\n",
       "  <tbody>\n",
       "    <tr>\n",
       "      <th>0</th>\n",
       "      <td>2009-12-23 17:38:18</td>\n",
       "      <td>12</td>\n",
       "      <td>6971079756</td>\n",
       "      <td>NaN</td>\n",
       "      <td>False</td>\n",
       "      <td>28</td>\n",
       "      <td>Twitter Web Client</td>\n",
       "      <td>From Donald Trump: Wishing everyone a wonderfu...</td>\n",
       "    </tr>\n",
       "    <tr>\n",
       "      <th>1</th>\n",
       "      <td>2009-12-03 19:39:09</td>\n",
       "      <td>6</td>\n",
       "      <td>6312794445</td>\n",
       "      <td>NaN</td>\n",
       "      <td>False</td>\n",
       "      <td>33</td>\n",
       "      <td>Twitter Web Client</td>\n",
       "      <td>Trump International Tower in Chicago ranked 6t...</td>\n",
       "    </tr>\n",
       "    <tr>\n",
       "      <th>2</th>\n",
       "      <td>2009-11-26 19:55:38</td>\n",
       "      <td>11</td>\n",
       "      <td>6090839867</td>\n",
       "      <td>NaN</td>\n",
       "      <td>False</td>\n",
       "      <td>13</td>\n",
       "      <td>Twitter Web Client</td>\n",
       "      <td>Wishing you and yours a very Happy and Bountif...</td>\n",
       "    </tr>\n",
       "    <tr>\n",
       "      <th>3</th>\n",
       "      <td>2009-11-16 21:06:10</td>\n",
       "      <td>3</td>\n",
       "      <td>5775731054</td>\n",
       "      <td>NaN</td>\n",
       "      <td>False</td>\n",
       "      <td>5</td>\n",
       "      <td>Twitter Web Client</td>\n",
       "      <td>Donald Trump Partners with TV1 on New Reality ...</td>\n",
       "    </tr>\n",
       "    <tr>\n",
       "      <th>4</th>\n",
       "      <td>2009-11-02 14:57:56</td>\n",
       "      <td>6</td>\n",
       "      <td>5364614040</td>\n",
       "      <td>NaN</td>\n",
       "      <td>False</td>\n",
       "      <td>7</td>\n",
       "      <td>Twitter Web Client</td>\n",
       "      <td>--Work has begun, ahead of schedule, to build ...</td>\n",
       "    </tr>\n",
       "  </tbody>\n",
       "</table>\n",
       "</div>"
      ],
      "text/plain": [
       "           created_at  favorite_count      id_str  in_reply_to_user_id_str  \\\n",
       "0 2009-12-23 17:38:18              12  6971079756                      NaN   \n",
       "1 2009-12-03 19:39:09               6  6312794445                      NaN   \n",
       "2 2009-11-26 19:55:38              11  6090839867                      NaN   \n",
       "3 2009-11-16 21:06:10               3  5775731054                      NaN   \n",
       "4 2009-11-02 14:57:56               6  5364614040                      NaN   \n",
       "\n",
       "   is_retweet  retweet_count              source  \\\n",
       "0       False             28  Twitter Web Client   \n",
       "1       False             33  Twitter Web Client   \n",
       "2       False             13  Twitter Web Client   \n",
       "3       False              5  Twitter Web Client   \n",
       "4       False              7  Twitter Web Client   \n",
       "\n",
       "                                                text  \n",
       "0  From Donald Trump: Wishing everyone a wonderfu...  \n",
       "1  Trump International Tower in Chicago ranked 6t...  \n",
       "2  Wishing you and yours a very Happy and Bountif...  \n",
       "3  Donald Trump Partners with TV1 on New Reality ...  \n",
       "4  --Work has begun, ahead of schedule, to build ...  "
      ]
     },
     "execution_count": 18,
     "metadata": {},
     "output_type": "execute_result"
    }
   ],
   "source": [
    "condensed.head()"
   ]
  },
  {
   "cell_type": "markdown",
   "metadata": {},
   "source": [
    "# Twitterscraper dataset"
   ]
  },
  {
   "cell_type": "code",
   "execution_count": 25,
   "metadata": {
    "collapsed": true
   },
   "outputs": [],
   "source": [
    "twitterscraper = pd.read_json('data/scraped_tweets.json')"
   ]
  },
  {
   "cell_type": "code",
   "execution_count": 26,
   "metadata": {},
   "outputs": [
    {
     "data": {
      "text/plain": [
       "33411"
      ]
     },
     "execution_count": 26,
     "metadata": {},
     "output_type": "execute_result"
    }
   ],
   "source": [
    "len(twitterscraper)"
   ]
  },
  {
   "cell_type": "code",
   "execution_count": 27,
   "metadata": {},
   "outputs": [
    {
     "data": {
      "text/html": [
       "<div>\n",
       "<style>\n",
       "    .dataframe thead tr:only-child th {\n",
       "        text-align: right;\n",
       "    }\n",
       "\n",
       "    .dataframe thead th {\n",
       "        text-align: left;\n",
       "    }\n",
       "\n",
       "    .dataframe tbody tr th {\n",
       "        vertical-align: top;\n",
       "    }\n",
       "</style>\n",
       "<table border=\"1\" class=\"dataframe\">\n",
       "  <thead>\n",
       "    <tr style=\"text-align: right;\">\n",
       "      <th></th>\n",
       "      <th>created_at</th>\n",
       "      <th>favorite_count</th>\n",
       "      <th>id_str</th>\n",
       "      <th>in_reply_to_user_id_str</th>\n",
       "      <th>is_retweet</th>\n",
       "      <th>retweet_count</th>\n",
       "      <th>source</th>\n",
       "      <th>text</th>\n",
       "    </tr>\n",
       "  </thead>\n",
       "  <tbody>\n",
       "    <tr>\n",
       "      <th>0</th>\n",
       "      <td>2009-12-23 17:38:18</td>\n",
       "      <td>12</td>\n",
       "      <td>6971079756</td>\n",
       "      <td>NaN</td>\n",
       "      <td>False</td>\n",
       "      <td>28</td>\n",
       "      <td>Twitter Web Client</td>\n",
       "      <td>From Donald Trump: Wishing everyone a wonderfu...</td>\n",
       "    </tr>\n",
       "    <tr>\n",
       "      <th>1</th>\n",
       "      <td>2009-12-03 19:39:09</td>\n",
       "      <td>6</td>\n",
       "      <td>6312794445</td>\n",
       "      <td>NaN</td>\n",
       "      <td>False</td>\n",
       "      <td>33</td>\n",
       "      <td>Twitter Web Client</td>\n",
       "      <td>Trump International Tower in Chicago ranked 6t...</td>\n",
       "    </tr>\n",
       "    <tr>\n",
       "      <th>2</th>\n",
       "      <td>2009-11-26 19:55:38</td>\n",
       "      <td>11</td>\n",
       "      <td>6090839867</td>\n",
       "      <td>NaN</td>\n",
       "      <td>False</td>\n",
       "      <td>13</td>\n",
       "      <td>Twitter Web Client</td>\n",
       "      <td>Wishing you and yours a very Happy and Bountif...</td>\n",
       "    </tr>\n",
       "    <tr>\n",
       "      <th>3</th>\n",
       "      <td>2009-11-16 21:06:10</td>\n",
       "      <td>3</td>\n",
       "      <td>5775731054</td>\n",
       "      <td>NaN</td>\n",
       "      <td>False</td>\n",
       "      <td>5</td>\n",
       "      <td>Twitter Web Client</td>\n",
       "      <td>Donald Trump Partners with TV1 on New Reality ...</td>\n",
       "    </tr>\n",
       "    <tr>\n",
       "      <th>4</th>\n",
       "      <td>2009-11-02 14:57:56</td>\n",
       "      <td>6</td>\n",
       "      <td>5364614040</td>\n",
       "      <td>NaN</td>\n",
       "      <td>False</td>\n",
       "      <td>7</td>\n",
       "      <td>Twitter Web Client</td>\n",
       "      <td>--Work has begun, ahead of schedule, to build ...</td>\n",
       "    </tr>\n",
       "  </tbody>\n",
       "</table>\n",
       "</div>"
      ],
      "text/plain": [
       "           created_at  favorite_count      id_str  in_reply_to_user_id_str  \\\n",
       "0 2009-12-23 17:38:18              12  6971079756                      NaN   \n",
       "1 2009-12-03 19:39:09               6  6312794445                      NaN   \n",
       "2 2009-11-26 19:55:38              11  6090839867                      NaN   \n",
       "3 2009-11-16 21:06:10               3  5775731054                      NaN   \n",
       "4 2009-11-02 14:57:56               6  5364614040                      NaN   \n",
       "\n",
       "   is_retweet  retweet_count              source  \\\n",
       "0       False             28  Twitter Web Client   \n",
       "1       False             33  Twitter Web Client   \n",
       "2       False             13  Twitter Web Client   \n",
       "3       False              5  Twitter Web Client   \n",
       "4       False              7  Twitter Web Client   \n",
       "\n",
       "                                                text  \n",
       "0  From Donald Trump: Wishing everyone a wonderfu...  \n",
       "1  Trump International Tower in Chicago ranked 6t...  \n",
       "2  Wishing you and yours a very Happy and Bountif...  \n",
       "3  Donald Trump Partners with TV1 on New Reality ...  \n",
       "4  --Work has begun, ahead of schedule, to build ...  "
      ]
     },
     "execution_count": 27,
     "metadata": {},
     "output_type": "execute_result"
    }
   ],
   "source": [
    "condensed.head()"
   ]
  },
  {
   "cell_type": "code",
   "execution_count": null,
   "metadata": {
    "collapsed": true
   },
   "outputs": [],
   "source": []
  }
 ],
 "metadata": {
  "kernelspec": {
   "display_name": "Python 3",
   "language": "python",
   "name": "python3"
  },
  "language_info": {
   "codemirror_mode": {
    "name": "ipython",
    "version": 3
   },
   "file_extension": ".py",
   "mimetype": "text/x-python",
   "name": "python",
   "nbconvert_exporter": "python",
   "pygments_lexer": "ipython3",
   "version": "3.6.3"
  }
 },
 "nbformat": 4,
 "nbformat_minor": 2
}
