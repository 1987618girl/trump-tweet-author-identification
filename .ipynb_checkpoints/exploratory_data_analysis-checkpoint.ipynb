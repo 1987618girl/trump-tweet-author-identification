{
 "cells": [
  {
   "cell_type": "code",
   "execution_count": 1,
   "metadata": {
    "collapsed": true
   },
   "outputs": [],
   "source": [
    "import pandas as pd"
   ]
  },
  {
   "cell_type": "markdown",
   "metadata": {},
   "source": [
    "# Master data set"
   ]
  },
  {
   "cell_type": "code",
   "execution_count": 11,
   "metadata": {
    "collapsed": true
   },
   "outputs": [],
   "source": [
    "master_2009 = pd.read_json('master_2009.json')\n",
    "master_2010 = pd.read_json('master_2010.json')\n",
    "master_2011 = pd.read_json('master_2011.json')\n",
    "master_2012 = pd.read_json('master_2012.json')\n",
    "master_2013 = pd.read_json('master_2013.json')\n",
    "master_2014 = pd.read_json('master_2014.json')\n",
    "master_2015 = pd.read_json('master_2015.json')\n",
    "master_2016 = pd.read_json('master_2016.json')\n",
    "master_2017 = pd.read_json('master_2017.json')"
   ]
  },
  {
   "cell_type": "code",
   "execution_count": 12,
   "metadata": {
    "collapsed": true
   },
   "outputs": [],
   "source": [
    "master_list = [df_2009, \n",
    "           df_2010, \n",
    "           df_2011, \n",
    "           df_2012, \n",
    "           df_2013, \n",
    "           df_2014, \n",
    "           df_2015, \n",
    "           df_2016, \n",
    "           df_2017]\n",
    "master = pd.concat(df_list)"
   ]
  },
  {
   "cell_type": "code",
   "execution_count": 13,
   "metadata": {},
   "outputs": [
    {
     "name": "stdout",
     "output_type": "stream",
     "text": [
      "<class 'pandas.core.frame.DataFrame'>\n",
      "Int64Index: 32797 entries, 0 to 2604\n",
      "Data columns (total 35 columns):\n",
      "contributors                 0 non-null float64\n",
      "coordinates                  2299 non-null object\n",
      "created_at                   32797 non-null datetime64[ns]\n",
      "display_text_range           1554 non-null object\n",
      "entities                     32797 non-null object\n",
      "extended_entities            1948 non-null object\n",
      "favorite_count               32797 non-null int64\n",
      "favorited                    32797 non-null bool\n",
      "full_text                    1554 non-null object\n",
      "geo                          2299 non-null object\n",
      "id                           32797 non-null int64\n",
      "id_str                       32797 non-null int64\n",
      "in_reply_to_screen_name      2443 non-null object\n",
      "in_reply_to_status_id        2002 non-null float64\n",
      "in_reply_to_status_id_str    2002 non-null float64\n",
      "in_reply_to_user_id          2443 non-null float64\n",
      "in_reply_to_user_id_str      2443 non-null float64\n",
      "is_quote_status              32797 non-null bool\n",
      "lang                         32797 non-null object\n",
      "place                        2878 non-null object\n",
      "possibly_sensitive           7595 non-null float64\n",
      "quoted_status                282 non-null object\n",
      "quoted_status_id             308 non-null float64\n",
      "quoted_status_id_str         308 non-null float64\n",
      "retweet_count                32797 non-null int64\n",
      "retweeted                    32797 non-null bool\n",
      "retweeted_status             498 non-null object\n",
      "scopes                       63 non-null object\n",
      "source                       32797 non-null object\n",
      "text                         31243 non-null object\n",
      "truncated                    32797 non-null bool\n",
      "user                         32797 non-null object\n",
      "withheld_copyright           1 non-null float64\n",
      "withheld_in_countries        1 non-null object\n",
      "withheld_scope               1 non-null object\n",
      "dtypes: bool(4), datetime64[ns](1), float64(9), int64(4), object(17)\n",
      "memory usage: 8.1+ MB\n"
     ]
    }
   ],
   "source": [
    "master.info()"
   ]
  },
  {
   "cell_type": "code",
   "execution_count": 16,
   "metadata": {},
   "outputs": [
    {
     "data": {
      "text/plain": [
       "32797"
      ]
     },
     "execution_count": 16,
     "metadata": {},
     "output_type": "execute_result"
    }
   ],
   "source": [
    "len(master_2009) + len(master_2010) + len(master_2011) + len(master_2012) + \\\n",
    "len(master_2013) + len(master_2014) + len(master_2015) + len(master_2016) + len(master_2017)"
   ]
  },
  {
   "cell_type": "code",
   "execution_count": 17,
   "metadata": {},
   "outputs": [
    {
     "data": {
      "text/plain": [
       "32797"
      ]
     },
     "execution_count": 17,
     "metadata": {},
     "output_type": "execute_result"
    }
   ],
   "source": [
    "len(master)"
   ]
  },
  {
   "cell_type": "code",
   "execution_count": 18,
   "metadata": {},
   "outputs": [
    {
     "data": {
      "text/html": [
       "<div>\n",
       "<style>\n",
       "    .dataframe thead tr:only-child th {\n",
       "        text-align: right;\n",
       "    }\n",
       "\n",
       "    .dataframe thead th {\n",
       "        text-align: left;\n",
       "    }\n",
       "\n",
       "    .dataframe tbody tr th {\n",
       "        vertical-align: top;\n",
       "    }\n",
       "</style>\n",
       "<table border=\"1\" class=\"dataframe\">\n",
       "  <thead>\n",
       "    <tr style=\"text-align: right;\">\n",
       "      <th></th>\n",
       "      <th>contributors</th>\n",
       "      <th>coordinates</th>\n",
       "      <th>created_at</th>\n",
       "      <th>display_text_range</th>\n",
       "      <th>entities</th>\n",
       "      <th>extended_entities</th>\n",
       "      <th>favorite_count</th>\n",
       "      <th>favorited</th>\n",
       "      <th>full_text</th>\n",
       "      <th>geo</th>\n",
       "      <th>...</th>\n",
       "      <th>retweeted</th>\n",
       "      <th>retweeted_status</th>\n",
       "      <th>scopes</th>\n",
       "      <th>source</th>\n",
       "      <th>text</th>\n",
       "      <th>truncated</th>\n",
       "      <th>user</th>\n",
       "      <th>withheld_copyright</th>\n",
       "      <th>withheld_in_countries</th>\n",
       "      <th>withheld_scope</th>\n",
       "    </tr>\n",
       "  </thead>\n",
       "  <tbody>\n",
       "    <tr>\n",
       "      <th>0</th>\n",
       "      <td>NaN</td>\n",
       "      <td>NaN</td>\n",
       "      <td>2009-12-23 17:38:18</td>\n",
       "      <td>NaN</td>\n",
       "      <td>{'symbols': [], 'user_mentions': [], 'hashtags...</td>\n",
       "      <td>NaN</td>\n",
       "      <td>12</td>\n",
       "      <td>False</td>\n",
       "      <td>NaN</td>\n",
       "      <td>NaN</td>\n",
       "      <td>...</td>\n",
       "      <td>False</td>\n",
       "      <td>NaN</td>\n",
       "      <td>NaN</td>\n",
       "      <td>&lt;a href=\"http://twitter.com\" rel=\"nofollow\"&gt;Tw...</td>\n",
       "      <td>From Donald Trump: Wishing everyone a wonderfu...</td>\n",
       "      <td>False</td>\n",
       "      <td>{'follow_request_sent': False, 'has_extended_p...</td>\n",
       "      <td>NaN</td>\n",
       "      <td>NaN</td>\n",
       "      <td>NaN</td>\n",
       "    </tr>\n",
       "    <tr>\n",
       "      <th>1</th>\n",
       "      <td>NaN</td>\n",
       "      <td>NaN</td>\n",
       "      <td>2009-12-03 19:39:09</td>\n",
       "      <td>NaN</td>\n",
       "      <td>{'symbols': [], 'user_mentions': [], 'hashtags...</td>\n",
       "      <td>NaN</td>\n",
       "      <td>6</td>\n",
       "      <td>False</td>\n",
       "      <td>NaN</td>\n",
       "      <td>NaN</td>\n",
       "      <td>...</td>\n",
       "      <td>False</td>\n",
       "      <td>NaN</td>\n",
       "      <td>NaN</td>\n",
       "      <td>&lt;a href=\"http://twitter.com\" rel=\"nofollow\"&gt;Tw...</td>\n",
       "      <td>Trump International Tower in Chicago ranked 6t...</td>\n",
       "      <td>False</td>\n",
       "      <td>{'follow_request_sent': False, 'has_extended_p...</td>\n",
       "      <td>NaN</td>\n",
       "      <td>NaN</td>\n",
       "      <td>NaN</td>\n",
       "    </tr>\n",
       "    <tr>\n",
       "      <th>2</th>\n",
       "      <td>NaN</td>\n",
       "      <td>NaN</td>\n",
       "      <td>2009-11-26 19:55:38</td>\n",
       "      <td>NaN</td>\n",
       "      <td>{'symbols': [], 'user_mentions': [], 'hashtags...</td>\n",
       "      <td>NaN</td>\n",
       "      <td>11</td>\n",
       "      <td>False</td>\n",
       "      <td>NaN</td>\n",
       "      <td>NaN</td>\n",
       "      <td>...</td>\n",
       "      <td>False</td>\n",
       "      <td>NaN</td>\n",
       "      <td>NaN</td>\n",
       "      <td>&lt;a href=\"http://twitter.com\" rel=\"nofollow\"&gt;Tw...</td>\n",
       "      <td>Wishing you and yours a very Happy and Bountif...</td>\n",
       "      <td>False</td>\n",
       "      <td>{'follow_request_sent': False, 'has_extended_p...</td>\n",
       "      <td>NaN</td>\n",
       "      <td>NaN</td>\n",
       "      <td>NaN</td>\n",
       "    </tr>\n",
       "    <tr>\n",
       "      <th>3</th>\n",
       "      <td>NaN</td>\n",
       "      <td>NaN</td>\n",
       "      <td>2009-11-16 21:06:10</td>\n",
       "      <td>NaN</td>\n",
       "      <td>{'symbols': [], 'user_mentions': [], 'hashtags...</td>\n",
       "      <td>NaN</td>\n",
       "      <td>3</td>\n",
       "      <td>False</td>\n",
       "      <td>NaN</td>\n",
       "      <td>NaN</td>\n",
       "      <td>...</td>\n",
       "      <td>False</td>\n",
       "      <td>NaN</td>\n",
       "      <td>NaN</td>\n",
       "      <td>&lt;a href=\"http://twitter.com\" rel=\"nofollow\"&gt;Tw...</td>\n",
       "      <td>Donald Trump Partners with TV1 on New Reality ...</td>\n",
       "      <td>False</td>\n",
       "      <td>{'follow_request_sent': False, 'has_extended_p...</td>\n",
       "      <td>NaN</td>\n",
       "      <td>NaN</td>\n",
       "      <td>NaN</td>\n",
       "    </tr>\n",
       "    <tr>\n",
       "      <th>4</th>\n",
       "      <td>NaN</td>\n",
       "      <td>NaN</td>\n",
       "      <td>2009-11-02 14:57:56</td>\n",
       "      <td>NaN</td>\n",
       "      <td>{'symbols': [], 'user_mentions': [], 'hashtags...</td>\n",
       "      <td>NaN</td>\n",
       "      <td>6</td>\n",
       "      <td>False</td>\n",
       "      <td>NaN</td>\n",
       "      <td>NaN</td>\n",
       "      <td>...</td>\n",
       "      <td>False</td>\n",
       "      <td>NaN</td>\n",
       "      <td>NaN</td>\n",
       "      <td>&lt;a href=\"http://twitter.com\" rel=\"nofollow\"&gt;Tw...</td>\n",
       "      <td>--Work has begun, ahead of schedule, to build ...</td>\n",
       "      <td>False</td>\n",
       "      <td>{'follow_request_sent': False, 'has_extended_p...</td>\n",
       "      <td>NaN</td>\n",
       "      <td>NaN</td>\n",
       "      <td>NaN</td>\n",
       "    </tr>\n",
       "  </tbody>\n",
       "</table>\n",
       "<p>5 rows × 35 columns</p>\n",
       "</div>"
      ],
      "text/plain": [
       "   contributors coordinates          created_at display_text_range  \\\n",
       "0           NaN         NaN 2009-12-23 17:38:18                NaN   \n",
       "1           NaN         NaN 2009-12-03 19:39:09                NaN   \n",
       "2           NaN         NaN 2009-11-26 19:55:38                NaN   \n",
       "3           NaN         NaN 2009-11-16 21:06:10                NaN   \n",
       "4           NaN         NaN 2009-11-02 14:57:56                NaN   \n",
       "\n",
       "                                            entities extended_entities  \\\n",
       "0  {'symbols': [], 'user_mentions': [], 'hashtags...               NaN   \n",
       "1  {'symbols': [], 'user_mentions': [], 'hashtags...               NaN   \n",
       "2  {'symbols': [], 'user_mentions': [], 'hashtags...               NaN   \n",
       "3  {'symbols': [], 'user_mentions': [], 'hashtags...               NaN   \n",
       "4  {'symbols': [], 'user_mentions': [], 'hashtags...               NaN   \n",
       "\n",
       "   favorite_count  favorited full_text  geo      ...        retweeted  \\\n",
       "0              12      False       NaN  NaN      ...            False   \n",
       "1               6      False       NaN  NaN      ...            False   \n",
       "2              11      False       NaN  NaN      ...            False   \n",
       "3               3      False       NaN  NaN      ...            False   \n",
       "4               6      False       NaN  NaN      ...            False   \n",
       "\n",
       "   retweeted_status scopes                                             source  \\\n",
       "0               NaN    NaN  <a href=\"http://twitter.com\" rel=\"nofollow\">Tw...   \n",
       "1               NaN    NaN  <a href=\"http://twitter.com\" rel=\"nofollow\">Tw...   \n",
       "2               NaN    NaN  <a href=\"http://twitter.com\" rel=\"nofollow\">Tw...   \n",
       "3               NaN    NaN  <a href=\"http://twitter.com\" rel=\"nofollow\">Tw...   \n",
       "4               NaN    NaN  <a href=\"http://twitter.com\" rel=\"nofollow\">Tw...   \n",
       "\n",
       "                                                text  truncated  \\\n",
       "0  From Donald Trump: Wishing everyone a wonderfu...      False   \n",
       "1  Trump International Tower in Chicago ranked 6t...      False   \n",
       "2  Wishing you and yours a very Happy and Bountif...      False   \n",
       "3  Donald Trump Partners with TV1 on New Reality ...      False   \n",
       "4  --Work has begun, ahead of schedule, to build ...      False   \n",
       "\n",
       "                                                user  withheld_copyright  \\\n",
       "0  {'follow_request_sent': False, 'has_extended_p...                 NaN   \n",
       "1  {'follow_request_sent': False, 'has_extended_p...                 NaN   \n",
       "2  {'follow_request_sent': False, 'has_extended_p...                 NaN   \n",
       "3  {'follow_request_sent': False, 'has_extended_p...                 NaN   \n",
       "4  {'follow_request_sent': False, 'has_extended_p...                 NaN   \n",
       "\n",
       "  withheld_in_countries withheld_scope  \n",
       "0                   NaN            NaN  \n",
       "1                   NaN            NaN  \n",
       "2                   NaN            NaN  \n",
       "3                   NaN            NaN  \n",
       "4                   NaN            NaN  \n",
       "\n",
       "[5 rows x 35 columns]"
      ]
     },
     "execution_count": 18,
     "metadata": {},
     "output_type": "execute_result"
    }
   ],
   "source": [
    "master.head()"
   ]
  },
  {
   "cell_type": "code",
   "execution_count": 19,
   "metadata": {},
   "outputs": [
    {
     "data": {
      "text/plain": [
       "0       <a href=\"http://twitter.com\" rel=\"nofollow\">Tw...\n",
       "1       <a href=\"http://twitter.com\" rel=\"nofollow\">Tw...\n",
       "2       <a href=\"http://twitter.com\" rel=\"nofollow\">Tw...\n",
       "3       <a href=\"http://twitter.com\" rel=\"nofollow\">Tw...\n",
       "4       <a href=\"http://twitter.com\" rel=\"nofollow\">Tw...\n",
       "5       <a href=\"http://twitter.com\" rel=\"nofollow\">Tw...\n",
       "6       <a href=\"http://twitter.com\" rel=\"nofollow\">Tw...\n",
       "7       <a href=\"http://twitter.com\" rel=\"nofollow\">Tw...\n",
       "8       <a href=\"http://twitter.com\" rel=\"nofollow\">Tw...\n",
       "9       <a href=\"http://twitter.com\" rel=\"nofollow\">Tw...\n",
       "10      <a href=\"http://twitter.com\" rel=\"nofollow\">Tw...\n",
       "11      <a href=\"http://twitter.com\" rel=\"nofollow\">Tw...\n",
       "12      <a href=\"http://twitter.com\" rel=\"nofollow\">Tw...\n",
       "13      <a href=\"http://twitter.com\" rel=\"nofollow\">Tw...\n",
       "14      <a href=\"http://twitter.com\" rel=\"nofollow\">Tw...\n",
       "15      <a href=\"http://twitter.com\" rel=\"nofollow\">Tw...\n",
       "16      <a href=\"http://twitter.com\" rel=\"nofollow\">Tw...\n",
       "17      <a href=\"http://twitter.com\" rel=\"nofollow\">Tw...\n",
       "18      <a href=\"http://twitter.com\" rel=\"nofollow\">Tw...\n",
       "19      <a href=\"http://twitter.com\" rel=\"nofollow\">Tw...\n",
       "20      <a href=\"http://twitter.com\" rel=\"nofollow\">Tw...\n",
       "21      <a href=\"http://twitter.com\" rel=\"nofollow\">Tw...\n",
       "22      <a href=\"http://twitter.com\" rel=\"nofollow\">Tw...\n",
       "23      <a href=\"http://twitter.com\" rel=\"nofollow\">Tw...\n",
       "24      <a href=\"http://twitter.com\" rel=\"nofollow\">Tw...\n",
       "25      <a href=\"http://twitter.com\" rel=\"nofollow\">Tw...\n",
       "26      <a href=\"http://twitter.com\" rel=\"nofollow\">Tw...\n",
       "27      <a href=\"http://twitter.com\" rel=\"nofollow\">Tw...\n",
       "28      <a href=\"http://twitter.com\" rel=\"nofollow\">Tw...\n",
       "29      <a href=\"http://twitter.com\" rel=\"nofollow\">Tw...\n",
       "                              ...                        \n",
       "2575    <a href=\"http://twitter.com/download/android\" ...\n",
       "2576    <a href=\"http://twitter.com/download/android\" ...\n",
       "2577    <a href=\"http://twitter.com/download/android\" ...\n",
       "2578    <a href=\"http://twitter.com/download/android\" ...\n",
       "2579    <a href=\"http://twitter.com/download/android\" ...\n",
       "2580    <a href=\"http://twitter.com/download/android\" ...\n",
       "2581    <a href=\"http://twitter.com/download/android\" ...\n",
       "2582    <a href=\"http://twitter.com/download/android\" ...\n",
       "2583    <a href=\"http://twitter.com/download/iphone\" r...\n",
       "2584    <a href=\"http://twitter.com/download/android\" ...\n",
       "2585    <a href=\"http://twitter.com/download/iphone\" r...\n",
       "2586    <a href=\"http://twitter.com/download/iphone\" r...\n",
       "2587    <a href=\"http://twitter.com/download/android\" ...\n",
       "2588    <a href=\"http://twitter.com/download/android\" ...\n",
       "2589    <a href=\"http://twitter.com/download/android\" ...\n",
       "2590    <a href=\"http://twitter.com/download/android\" ...\n",
       "2591    <a href=\"http://twitter.com/download/android\" ...\n",
       "2592    <a href=\"http://twitter.com/download/android\" ...\n",
       "2593    <a href=\"http://twitter.com/download/android\" ...\n",
       "2594    <a href=\"http://twitter.com/download/android\" ...\n",
       "2595    <a href=\"http://twitter.com/download/android\" ...\n",
       "2596    <a href=\"http://twitter.com/download/android\" ...\n",
       "2597    <a href=\"http://twitter.com/download/android\" ...\n",
       "2598    <a href=\"http://twitter.com/download/android\" ...\n",
       "2599    <a href=\"http://twitter.com/download/iphone\" r...\n",
       "2600    <a href=\"http://twitter.com/download/iphone\" r...\n",
       "2601    <a href=\"http://twitter.com/download/iphone\" r...\n",
       "2602    <a href=\"http://twitter.com/download/iphone\" r...\n",
       "2603    <a href=\"http://twitter.com/download/iphone\" r...\n",
       "2604    <a href=\"http://twitter.com/download/iphone\" r...\n",
       "Name: source, Length: 32797, dtype: object"
      ]
     },
     "execution_count": 19,
     "metadata": {},
     "output_type": "execute_result"
    }
   ],
   "source": [
    "master['source']"
   ]
  },
  {
   "cell_type": "markdown",
   "metadata": {},
   "source": [
    "# Condensed data set"
   ]
  },
  {
   "cell_type": "code",
   "execution_count": null,
   "metadata": {
    "collapsed": true
   },
   "outputs": [],
   "source": [
    "condensed_2009 = pd.read_json('condensed_2009.json')\n",
    "condensed_2010 = pd.read_json('condensed_2010.json')\n",
    "condensed_2011 = pd.read_json('condensed_2011.json')\n",
    "condensed_2012 = pd.read_json('condensed_2012.json')\n",
    "condensed_2013 = pd.read_json('condensed_2013.json')\n",
    "condensed_2014 = pd.read_json('condensed_2014.json')\n",
    "condensed_2015 = pd.read_json('condensed_2015.json')\n",
    "condensed_2016 = pd.read_json('condensed_2016.json')\n",
    "condensed_2017 = pd.read_json('condensed2017.json')"
   ]
  }
 ],
 "metadata": {
  "kernelspec": {
   "display_name": "Python 3",
   "language": "python",
   "name": "python3"
  },
  "language_info": {
   "codemirror_mode": {
    "name": "ipython",
    "version": 3
   },
   "file_extension": ".py",
   "mimetype": "text/x-python",
   "name": "python",
   "nbconvert_exporter": "python",
   "pygments_lexer": "ipython3",
   "version": "3.6.3"
  }
 },
 "nbformat": 4,
 "nbformat_minor": 2
}
